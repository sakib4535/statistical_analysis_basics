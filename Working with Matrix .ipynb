{
 "cells": [
  {
   "cell_type": "code",
   "execution_count": 1,
   "id": "d5451dbd",
   "metadata": {},
   "outputs": [],
   "source": [
    "import numpy as np"
   ]
  },
  {
   "cell_type": "code",
   "execution_count": 77,
   "id": "1bc02ace",
   "metadata": {},
   "outputs": [
    {
     "name": "stdout",
     "output_type": "stream",
     "text": [
      "[[2 3 6]\n",
      " [1 3 4]\n",
      " [2 8 7]]\n",
      "[[1 2 3]\n",
      " [4 5 6]\n",
      " [7 8 9]]\n",
      "[[10 12]\n",
      " [14 16]\n",
      " [18 20]]\n"
     ]
    }
   ],
   "source": [
    "m1 = np.array([[2, 3, 6], [1, 3, 4], [2, 8, 7]])\n",
    "print(m1)\n",
    "\n",
    "m2 = np.arange(1,10)\n",
    "m_s2 = m2.reshape(3,3)\n",
    "print(m_s2)\n",
    "\n",
    "m3 = np.arange(10,21,2)\n",
    "m_s3 = m3.reshape(3,2)\n",
    "print(m_s3)"
   ]
  },
  {
   "cell_type": "code",
   "execution_count": 78,
   "id": "da71a3ef",
   "metadata": {},
   "outputs": [
    {
     "name": "stdout",
     "output_type": "stream",
     "text": [
      "[[12.3  34.5  21.2  90.  ]\n",
      " [51.4  87.2  77.3  88.4 ]\n",
      " [22.2  41.9  40.1  20.  ]\n",
      " [91.21 85.5  89.2  21.3 ]\n",
      " [32.   68.   47.   66.  ]]\n"
     ]
    }
   ],
   "source": [
    "m4 = np.array([[12.3, 34.5, 21.2, 90.0],\n",
    "               [51.4, 87.2, 77.3, 88.4], \n",
    "               [22.2, 41.9, 40.1, 20.0], \n",
    "               [91.21, 85.5, 89.2, 21.3], \n",
    "               [32, 68, 47, 66]])\n",
    "print(m4)"
   ]
  },
  {
   "cell_type": "code",
   "execution_count": 79,
   "id": "0eca6098",
   "metadata": {},
   "outputs": [
    {
     "name": "stdout",
     "output_type": "stream",
     "text": [
      "[209.11 317.1  274.8  285.7 ]\n",
      "[[12.3  51.4  22.2  91.21 32.  ]\n",
      " [34.5  87.2  41.9  85.5  68.  ]\n",
      " [21.2  77.3  40.1  89.2  47.  ]\n",
      " [90.   88.4  20.   21.3  66.  ]]\n"
     ]
    }
   ],
   "source": [
    "print(sum(m4))\n",
    "\n",
    "A = m4.transpose()\n",
    "print(A)"
   ]
  },
  {
   "cell_type": "code",
   "execution_count": 80,
   "id": "cb6770e3",
   "metadata": {},
   "outputs": [
    {
     "name": "stdout",
     "output_type": "stream",
     "text": [
      "[[ 61  62  63  64  65  66  67  68  69]\n",
      " [ 70  71  72  73  74  75  76  77  78]\n",
      " [ 79  80  81  82  83  84  85  86  87]\n",
      " [ 88  89  90  91  92  93  94  95  96]\n",
      " [ 97  98  99 100 101 102 103 104 105]]\n",
      "[[50 52 54 56 58]\n",
      " [60 62 64 66 68]\n",
      " [70 72 74 76 78]]\n"
     ]
    }
   ],
   "source": [
    "A1 = np.arange(61,106).reshape(5,9)\n",
    "print(A1)\n",
    "A2 = np.arange(50,79,2).reshape(3,5)\n",
    "print(A2)"
   ]
  },
  {
   "cell_type": "code",
   "execution_count": 83,
   "id": "7acf275f",
   "metadata": {},
   "outputs": [
    {
     "name": "stdout",
     "output_type": "stream",
     "text": [
      "[[ 2  6 18]\n",
      " [ 4 15 24]\n",
      " [14 64 63]]\n"
     ]
    }
   ],
   "source": [
    "M1 = m_s2 * m1\n",
    "print(M1)"
   ]
  },
  {
   "cell_type": "code",
   "execution_count": 85,
   "id": "cbbca76c",
   "metadata": {},
   "outputs": [
    {
     "name": "stdout",
     "output_type": "stream",
     "text": [
      "[[ 10  33  35]\n",
      " [ 25  75  86]\n",
      " [ 40 117 137]]\n"
     ]
    }
   ],
   "source": [
    "#Matrix Multiplication Using Dots()\n",
    "M2 = m_s2.dot(m1)\n",
    "print(M2)"
   ]
  },
  {
   "cell_type": "code",
   "execution_count": null,
   "id": "86564a96",
   "metadata": {},
   "outputs": [],
   "source": []
  }
 ],
 "metadata": {
  "kernelspec": {
   "display_name": "Python 3",
   "language": "python",
   "name": "python3"
  },
  "language_info": {
   "codemirror_mode": {
    "name": "ipython",
    "version": 3
   },
   "file_extension": ".py",
   "mimetype": "text/x-python",
   "name": "python",
   "nbconvert_exporter": "python",
   "pygments_lexer": "ipython3",
   "version": "3.8.8"
  }
 },
 "nbformat": 4,
 "nbformat_minor": 5
}
